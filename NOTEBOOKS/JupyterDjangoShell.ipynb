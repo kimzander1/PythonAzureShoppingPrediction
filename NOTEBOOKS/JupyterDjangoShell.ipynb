{
 "cells": [
  {
   "cell_type": "markdown",
   "metadata": {
    "deletable": true,
    "editable": true
   },
   "source": [
    "# ADA - KDA Py / ML Training \n",
    "___\n",
    "#### My Experiments in Using Jup Notebooks INTERFACE for DJANGO dev and PY Machine Learning Courses\n",
    "\n",
    "(ML work dove-tails with prior SSAS - SQL SVr - work.) \n",
    "Motivated by prior work and intests in:\n",
    "+ Machine Learning \n",
    "+ R\n",
    "+ Python\n",
    "+ Web (incl/ Frameworks and Library)\n",
    "+ MarkDown\n",
    "---\n",
    "** Resources: **\n",
    "+ [Course](https://app.pluralsight.com/player?course=python-understanding-machine-learning&author=jerry-kurata&name=python-understanding-machine-learning-m1&clip=6&mode=live)\n",
    "+ [Django](https://developer.mozilla.org/en-US/docs/Learn/Server-side/Django/Introduction)\n",
    "+ [Pandas](http://pandas.pydata.org/)\n",
    "+ [Django Pandas](https://github.com/chrisdev/django-pandas)\n",
    "+ [MarkDown](http://assemble.io/docs/Cheatsheet-Markdown.html)\n",
    "+ [Jupyter Django Shell](https://www.calazan.com/using-ipython-notebook-django-shell-inside-docker-container/)"
   ]
  },
  {
   "cell_type": "code",
   "execution_count": 2,
   "metadata": {
    "collapsed": false,
    "deletable": true,
    "editable": true
   },
   "outputs": [],
   "source": [
    "import html5lib\n",
    "f = open(\"files/zipUtil.html\")\n",
    "tree = html5lib.parse(f)"
   ]
  },
  {
   "cell_type": "code",
   "execution_count": 4,
   "metadata": {
    "collapsed": false,
    "deletable": true,
    "editable": true
   },
   "outputs": [
    {
     "data": {
      "text/plain": [
       "<Element '{http://www.w3.org/1999/xhtml}html' at 0x000000000832DF48>"
      ]
     },
     "execution_count": 4,
     "metadata": {},
     "output_type": "execute_result"
    }
   ],
   "source": [
    "tree\n"
   ]
  },
  {
   "cell_type": "code",
   "execution_count": null,
   "metadata": {
    "collapsed": true,
    "deletable": true,
    "editable": true
   },
   "outputs": [],
   "source": [
    " "
   ]
  }
 ],
 "metadata": {
  "kernelspec": {
   "display_name": "Django Shell-Plus",
   "language": "python",
   "name": "django_extensions"
  },
  "language_info": {
   "codemirror_mode": {
    "name": "ipython",
    "version": 3
   },
   "file_extension": ".py",
   "mimetype": "text/x-python",
   "name": "python",
   "nbconvert_exporter": "python",
   "pygments_lexer": "ipython3",
   "version": "3.4.3"
  }
 },
 "nbformat": 4,
 "nbformat_minor": 2
}

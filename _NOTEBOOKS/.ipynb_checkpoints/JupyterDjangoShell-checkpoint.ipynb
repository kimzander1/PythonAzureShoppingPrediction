{
 "cells": [
  {
   "cell_type": "markdown",
   "metadata": {
    "deletable": true,
    "editable": true
   },
   "source": [
    "# ADA - KDA Py / ML Training \n",
    "___\n",
    "#### My Experiments in Using Jup Notebooks INTERFACE for DJANGO dev and PY Machine Learning Courses\n",
    "\n",
    "(ML work dove-tails with prior SSAS - SQL SVr - work.) \n",
    "Motivated by prior work and intests in:\n",
    "+ Machine Learning \n",
    "+ R\n",
    "+ Python\n",
    "+ Web (incl/ Frameworks and Library)\n",
    "+ MarkDown\n",
    "---\n",
    "** Resources: **\n",
    "+ [Course](https://app.pluralsight.com/player?course=python-understanding-machine-learning&author=jerry-kurata&name=python-understanding-machine-learning-m1&clip=6&mode=live)\n",
    "+ [Pandas 10min Example](http://pandas.pydata.org/pandas-docs/stable/10min.html)\n",
    "+ [Pandas Example](https://realpython.com/blog/python/working-with-large-excel-files-in-pandas/)\n",
    "+ [BEAUTIFULSOUP](https://www.crummy.com/software/BeautifulSoup/bs4/doc/)\n",
    "\n",
    "+ [Jupyter Django Shell](https://www.calazan.com/using-ipython-notebook-django-shell-inside-docker-container/)\n",
    "+ [MarkDown](http://assemble.io/docs/Cheatsheet-Markdown.html)\n",
    "+ [SQLAlchemy](https://docs.sqlalchemy.org/en/rel_1_1/intro.html)\n",
    "+ [Django](https://developer.mozilla.org/en-US/docs/Learn/Server-side/Django/Introduction)\n",
    "+ [Pandas](http://pandas.pydata.org/)\n",
    "+ [Django Pandas](https://github.com/chrisdev/django-pandas)\n",
    "\n",
    "+ [jinja2](http://jinja.pocoo.org/docs/2.9/)\n",
    "\n"
   ]
  },
  {
   "cell_type": "code",
   "execution_count": 8,
   "metadata": {
    "collapsed": false,
    "deletable": true,
    "editable": true
   },
   "outputs": [],
   "source": [
    "import html5lib\n",
    "f = open(\"_FILES/WXDATA.HTML\")\n",
    "tree = html5lib.parse(f)"
   ]
  },
  {
   "cell_type": "code",
   "execution_count": 9,
   "metadata": {
    "collapsed": false,
    "deletable": true,
    "editable": true
   },
   "outputs": [
    {
     "data": {
      "text/plain": [
       "<Element '{http://www.w3.org/1999/xhtml}html' at 0x0000000000D0BE58>"
      ]
     },
     "execution_count": 9,
     "metadata": {},
     "output_type": "execute_result"
    }
   ],
   "source": [
    "tree\n"
   ]
  },
  {
   "cell_type": "code",
   "execution_count": 10,
   "metadata": {
    "collapsed": false,
    "deletable": true,
    "editable": true,
    "scrolled": true
   },
   "outputs": [],
   "source": [
    "import pandas as pd\n",
    "#import lxml as lx\n"
   ]
  },
  {
   "cell_type": "code",
   "execution_count": 11,
   "metadata": {
    "collapsed": false,
    "deletable": true,
    "editable": true
   },
   "outputs": [],
   "source": [
    "from bs4 import BeautifulSoup\n",
    "soup = BeautifulSoup(open(\"_files/WXDATA.HTML\"), \"html5lib\")"
   ]
  },
  {
   "cell_type": "code",
   "execution_count": 12,
   "metadata": {
    "collapsed": false,
    "deletable": true,
    "editable": true
   },
   "outputs": [
    {
     "name": "stdout",
     "output_type": "stream",
     "text": [
      "Muskegon, MI Meteorological Data & WebCam\n",
      "<title>Muskegon, MI Meteorological Data &amp; WebCam</title>\n"
     ]
    }
   ],
   "source": [
    "print(soup.title.text)  \n",
    "print(soup.title)"
   ]
  },
  {
   "cell_type": "markdown",
   "metadata": {
    "collapsed": false,
    "deletable": true,
    "editable": true
   },
   "source": [
    "#### All Anchors\n",
    "#soup.find_all('a')"
   ]
  },
  {
   "cell_type": "markdown",
   "metadata": {
    "collapsed": false,
    "deletable": true,
    "editable": true
   },
   "source": [
    "#### Get Tables\n",
    "#soup.find_all('table')"
   ]
  },
  {
   "cell_type": "markdown",
   "metadata": {},
   "source": [
    "#mainContentInner > table > tbody > tr:nth-child(3)\n",
    "//*[@id=\"mainContentInner\"]/table/tbody/tr[3]\n",
    "#mainContentInner > table > tbody > tr:nth-child(3) > td > div > table > tbody > tr:nth-child(1)\n",
    "//*[@id=\"mainContentInner\"]/table/tbody/tr[3]/td/div/table/tbody/tr[1]"
   ]
  },
  {
   "cell_type": "code",
   "execution_count": null,
   "metadata": {
    "collapsed": true
   },
   "outputs": [],
   "source": []
  }
 ],
 "metadata": {
  "kernelspec": {
   "display_name": "Django Shell-Plus",
   "language": "python",
   "name": "django_extensions"
  },
  "language_info": {
   "codemirror_mode": {
    "name": "ipython",
    "version": 3
   },
   "file_extension": ".py",
   "mimetype": "text/x-python",
   "name": "python",
   "nbconvert_exporter": "python",
   "pygments_lexer": "ipython3",
   "version": "3.4.3"
  }
 },
 "nbformat": 4,
 "nbformat_minor": 2
}

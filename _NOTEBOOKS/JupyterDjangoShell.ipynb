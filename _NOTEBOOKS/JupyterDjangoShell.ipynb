{
 "cells": [
  {
   "cell_type": "markdown",
   "metadata": {
    "deletable": true,
    "editable": true
   },
   "source": [
    "# ADA - KDA Py / ML Training \n",
    "___\n",
    "#### My Experiments in Using Jup Notebooks INTERFACE for DJANGO dev and PY Machine Learning Courses\n",
    "\n",
    "(ML work dove-tails with prior SSAS - SQL SVr - work.) \n",
    "Motivated by prior work and intests in:\n",
    "+ Machine Learning \n",
    "+ R\n",
    "+ Python\n",
    "+ Web (incl/ Frameworks and Library)\n",
    "+ MarkDown\n",
    "---\n",
    "** Resources: **\n",
    "+ [Course](https://app.pluralsight.com/player?course=python-understanding-machine-learning&author=jerry-kurata&name=python-understanding-machine-learning-m1&clip=6&mode=live)\n",
    "+ [Pandas 10min Example](http://pandas.pydata.org/pandas-docs/stable/10min.html)\n",
    "+ [Pandas Example](https://realpython.com/blog/python/working-with-large-excel-files-in-pandas/)\n",
    "+ [BEAUTIFULSOUP](https://www.crummy.com/software/BeautifulSoup/bs4/doc/)\n",
    "\n",
    "+ [Jupyter Django Shell](https://www.calazan.com/using-ipython-notebook-django-shell-inside-docker-container/)\n",
    "+ [MarkDown](http://assemble.io/docs/Cheatsheet-Markdown.html)\n",
    "+ [SQLAlchemy](https://docs.sqlalchemy.org/en/rel_1_1/intro.html)\n",
    "+ [Django](https://developer.mozilla.org/en-US/docs/Learn/Server-side/Django/Introduction)\n",
    "+ [Pandas](http://pandas.pydata.org/)\n",
    "+ [Django Pandas](https://github.com/chrisdev/django-pandas)\n",
    "\n",
    "+ [jinja2](http://jinja.pocoo.org/docs/2.9/)\n",
    "\n"
   ]
  },
  {
   "cell_type": "code",
   "execution_count": 2,
   "metadata": {
    "collapsed": false,
    "deletable": true,
    "editable": true
   },
   "outputs": [],
   "source": [
    "import html5lib\n",
    "f = open(\"_FILES/WXDATA.HTML\")\n",
    "tree = html5lib.parse(f)"
   ]
  },
  {
   "cell_type": "code",
   "execution_count": 3,
   "metadata": {
    "collapsed": false,
    "deletable": true,
    "editable": true
   },
   "outputs": [
    {
     "data": {
      "text/plain": [
       "<Element '{http://www.w3.org/1999/xhtml}html' at 0x00000000014947C8>"
      ]
     },
     "execution_count": 3,
     "metadata": {},
     "output_type": "execute_result"
    }
   ],
   "source": [
    "tree\n"
   ]
  },
  {
   "cell_type": "code",
   "execution_count": 4,
   "metadata": {
    "collapsed": false,
    "deletable": true,
    "editable": true,
    "scrolled": true
   },
   "outputs": [],
   "source": [
    "import pandas as pd\n",
    "#import lxml as lx\n"
   ]
  },
  {
   "cell_type": "code",
   "execution_count": 5,
   "metadata": {
    "collapsed": false,
    "deletable": true,
    "editable": true
   },
   "outputs": [],
   "source": [
    "from bs4 import BeautifulSoup\n",
    "soup = BeautifulSoup(open(\"_files/WXDATA.HTML\"), \"html5lib\")"
   ]
  },
  {
   "cell_type": "code",
   "execution_count": 6,
   "metadata": {
    "collapsed": false,
    "deletable": true,
    "editable": true
   },
   "outputs": [
    {
     "name": "stdout",
     "output_type": "stream",
     "text": [
      "Muskegon, MI Meteorological Data & WebCam\n",
      "<title>Muskegon, MI Meteorological Data &amp; WebCam</title>\n"
     ]
    }
   ],
   "source": [
    "print(soup.title.text)  \n",
    "print(soup.title)"
   ]
  },
  {
   "cell_type": "markdown",
   "metadata": {
    "collapsed": false,
    "deletable": true,
    "editable": true
   },
   "source": [
    "#### All Anchors\n",
    "#soup.find_all('a')"
   ]
  },
  {
   "cell_type": "markdown",
   "metadata": {
    "collapsed": false,
    "deletable": true,
    "editable": true
   },
   "source": [
    "#### Get Tables\n",
    "#soup.find_all('table')"
   ]
  },
  {
   "cell_type": "markdown",
   "metadata": {
    "deletable": true,
    "editable": true
   },
   "source": [
    "#mainContentInner > table > tbody > tr:nth-child(3)\n",
    "//*[@id=\"mainContentInner\"]/table/tbody/tr[3]\n",
    "#mainContentInner > table > tbody > tr:nth-child(3) > td > div > table > tbody > tr:nth-child(1)\n",
    "//*[@id=\"mainContentInner\"]/table/tbody/tr[3]/td/div/table/tbody/tr[1]"
   ]
  },
  {
   "cell_type": "raw",
   "metadata": {
    "collapsed": true,
    "deletable": true,
    "editable": true
   },
   "source": [
    "#soup.find(\"tbody\")"
   ]
  },
  {
   "cell_type": "raw",
   "metadata": {},
   "source": [
    "soup.select(\"#mainContentInner > table > tbody > tr:nth-of-type(3) > td > div > table > tbody > tr:nth-of-type(1) \")\n",
    "#print(type(t))\n",
    "#print(len(t))\n",
    "#print(t[0])"
   ]
  },
  {
   "cell_type": "code",
   "execution_count": 5,
   "metadata": {
    "collapsed": false
   },
   "outputs": [
    {
     "name": "stdout",
     "output_type": "stream",
     "text": [
      "<class 'list'>\n",
      "4\n",
      "                                                  0    \\\n",
      "0   Back to Met Station Array Page Milwaukee | Chi...   \n",
      "1   Wind Speed: 2.5 kts (1.3 m/s)  Max Wind Speed:...   \n",
      "2                                         Wind Speed:   \n",
      "3                                     Max Wind Speed:   \n",
      "4                                     Wind Direction:   \n",
      "5                                    Air Temperature:   \n",
      "6                                          Dew Point:   \n",
      "7                                  Relative Humidity:   \n",
      "8                                   Station Pressure:   \n",
      "9                                 Sea Level Pressure:   \n",
      "10                                               PAR:   \n",
      "11  Data & Plots of Previous 3 Hours (2 minute inc...   \n",
      "12  Data & Plots of Previous 5 Days (hourly increm...   \n",
      "13  1 Day Windrose Plot, 5 Day Windrose Plot, (exp...   \n",
      "14  Click on image to enlarge(images updated 6X pe...   \n",
      "15                                                NaN   \n",
      "16                                                NaN   \n",
      "17                                                NaN   \n",
      "18                                                NaN   \n",
      "19  6-hr animations  L to R: 1 2 3 4 5 6 7  Previo...   \n",
      "20  ----------------- Previous 18 Hours (at top of...   \n",
      "21  ----------------- Previous 18 Hours (at top of...   \n",
      "22                                               YEAR   \n",
      "23                                               2017   \n",
      "24                                               2017   \n",
      "25                                               2017   \n",
      "26                                               2017   \n",
      "27                                               2017   \n",
      "28                                               2017   \n",
      "29                                               2017   \n",
      "30                                               2017   \n",
      "31                                               2017   \n",
      "32                                               2017   \n",
      "33                                               2017   \n",
      "34                                               2017   \n",
      "35                                               2017   \n",
      "36                                               2017   \n",
      "37                                               2017   \n",
      "38                                               2017   \n",
      "39                                               2017   \n",
      "40                                               2017   \n",
      "41  Click here for today's 2-minute data: 20170219...   \n",
      "\n",
      "                                                  1                  2    \\\n",
      "0                                                 NaN                NaN   \n",
      "1                                         Wind Speed:  2.5 kts (1.3 m/s)   \n",
      "2                                   2.5 kts (1.3 m/s)                NaN   \n",
      "3                                   2.9 kts (1.5 m/s)                NaN   \n",
      "4                                          242° (WSW)                NaN   \n",
      "5                                    40.3 °F (4.6 °C)                NaN   \n",
      "6                                    34.1 °F (1.2 °C)                NaN   \n",
      "7                                              78.4 %                NaN   \n",
      "8                            29.447 in Hg. (997.2 mb)                NaN   \n",
      "9                           30.110 in Hg. (1019.6 mb)                NaN   \n",
      "10                                 1031 uEinst/m2/sec                NaN   \n",
      "11                                                NaN                NaN   \n",
      "12                                                NaN                NaN   \n",
      "13                                                NaN                NaN   \n",
      "14                                                NaN                NaN   \n",
      "15                                                NaN                NaN   \n",
      "16                                                NaN                NaN   \n",
      "17                                                NaN                NaN   \n",
      "18                                                NaN                NaN   \n",
      "19                                                NaN                NaN   \n",
      "20  ----------------- Previous 18 Hours (at top of...               YEAR   \n",
      "21                                                NaN                NaN   \n",
      "22                                                DOY                EST   \n",
      "23                                                050               1700   \n",
      "24                                                050               1600   \n",
      "25                                                050               1500   \n",
      "26                                                050               1400   \n",
      "27                                                050               1300   \n",
      "28                                                050               1200   \n",
      "29                                                050               1100   \n",
      "30                                                050               1000   \n",
      "31                                                050               0900   \n",
      "32                                                050               0800   \n",
      "33                                                050               0700   \n",
      "34                                                050               0600   \n",
      "35                                                050               0500   \n",
      "36                                                050               0400   \n",
      "37                                                050               0300   \n",
      "38                                                050               0200   \n",
      "39                                                050               0100   \n",
      "40                                                050               0000   \n",
      "41                                                NaN                NaN   \n",
      "\n",
      "                3                  4                5            6    \\\n",
      "0               NaN                NaN              NaN          NaN   \n",
      "1   Max Wind Speed:  2.9 kts (1.5 m/s)  Wind Direction:   242° (WSW)   \n",
      "2               NaN                NaN              NaN          NaN   \n",
      "3               NaN                NaN              NaN          NaN   \n",
      "4               NaN                NaN              NaN          NaN   \n",
      "5               NaN                NaN              NaN          NaN   \n",
      "6               NaN                NaN              NaN          NaN   \n",
      "7               NaN                NaN              NaN          NaN   \n",
      "8               NaN                NaN              NaN          NaN   \n",
      "9               NaN                NaN              NaN          NaN   \n",
      "10              NaN                NaN              NaN          NaN   \n",
      "11              NaN                NaN              NaN          NaN   \n",
      "12              NaN                NaN              NaN          NaN   \n",
      "13              NaN                NaN              NaN          NaN   \n",
      "14              NaN                NaN              NaN          NaN   \n",
      "15              NaN                NaN              NaN          NaN   \n",
      "16              NaN                NaN              NaN          NaN   \n",
      "17              NaN                NaN              NaN          NaN   \n",
      "18              NaN                NaN              NaN          NaN   \n",
      "19              NaN                NaN              NaN          NaN   \n",
      "20              DOY                EST     WindSpeedkts  WindGustkts   \n",
      "21              NaN                NaN              NaN          NaN   \n",
      "22     WindSpeedkts        WindGustkts      PeakWindkts   WindDirdeg   \n",
      "23              2.5                2.9              2.9          242   \n",
      "24              4.5                4.9              4.9          328   \n",
      "25              8.6                8.7              9.1          339   \n",
      "26              8.9                9.7              9.7          342   \n",
      "27             10.1               10.3             10.9          342   \n",
      "28              9.7               10.3             11.9          338   \n",
      "29              9.3               10.1             11.1          329   \n",
      "30              4.3                4.7             10.1          323   \n",
      "31              2.9                3.5              7.6          323   \n",
      "32              3.9                4.9              4.9          322   \n",
      "33              2.9                4.5              5.4          335   \n",
      "34              5.2                5.4              6.6          320   \n",
      "35              6.4                6.6              7.0          317   \n",
      "36              5.8                6.0              7.0          308   \n",
      "37              3.9                4.1              6.0          301   \n",
      "38              3.7                4.7              4.7          215   \n",
      "39              7.4                7.8              8.4          225   \n",
      "40              8.4                8.7              9.1          199   \n",
      "41              NaN                NaN              NaN          NaN   \n",
      "\n",
      "                 7                 8             9   ...   220  221  222  223  \\\n",
      "0                NaN               NaN           NaN ...   NaN  NaN  NaN  NaN   \n",
      "1   Air Temperature:  40.3 °F (4.6 °C)    Dew Point: ...   NaN  NaN  NaN  NaN   \n",
      "2                NaN               NaN           NaN ...   NaN  NaN  NaN  NaN   \n",
      "3                NaN               NaN           NaN ...   NaN  NaN  NaN  NaN   \n",
      "4                NaN               NaN           NaN ...   NaN  NaN  NaN  NaN   \n",
      "5                NaN               NaN           NaN ...   NaN  NaN  NaN  NaN   \n",
      "6                NaN               NaN           NaN ...   NaN  NaN  NaN  NaN   \n",
      "7                NaN               NaN           NaN ...   NaN  NaN  NaN  NaN   \n",
      "8                NaN               NaN           NaN ...   NaN  NaN  NaN  NaN   \n",
      "9                NaN               NaN           NaN ...   NaN  NaN  NaN  NaN   \n",
      "10               NaN               NaN           NaN ...   NaN  NaN  NaN  NaN   \n",
      "11               NaN               NaN           NaN ...   NaN  NaN  NaN  NaN   \n",
      "12               NaN               NaN           NaN ...   NaN  NaN  NaN  NaN   \n",
      "13               NaN               NaN           NaN ...   NaN  NaN  NaN  NaN   \n",
      "14               NaN               NaN           NaN ...   NaN  NaN  NaN  NaN   \n",
      "15               NaN               NaN           NaN ...   NaN  NaN  NaN  NaN   \n",
      "16               NaN               NaN           NaN ...   NaN  NaN  NaN  NaN   \n",
      "17               NaN               NaN           NaN ...   NaN  NaN  NaN  NaN   \n",
      "18               NaN               NaN           NaN ...   NaN  NaN  NaN  NaN   \n",
      "19               NaN               NaN           NaN ...   NaN  NaN  NaN  NaN   \n",
      "20       PeakWindkts        WindDirdeg  AirTempdeg F ...   0.0  8.4  8.7  9.1   \n",
      "21               NaN               NaN           NaN ...   NaN  NaN  NaN  NaN   \n",
      "22      AirTempdeg F     DewPointdeg F       RelHum% ...   NaN  NaN  NaN  NaN   \n",
      "23              40.3              34.1          78.4 ...   NaN  NaN  NaN  NaN   \n",
      "24              38.7              33.7          82.0 ...   NaN  NaN  NaN  NaN   \n",
      "25              39.4              34.2          81.5 ...   NaN  NaN  NaN  NaN   \n",
      "26              40.1              33.9          78.4 ...   NaN  NaN  NaN  NaN   \n",
      "27              39.2              33.8          80.9 ...   NaN  NaN  NaN  NaN   \n",
      "28              39.4              33.9          80.5 ...   NaN  NaN  NaN  NaN   \n",
      "29              38.3              33.5          82.6 ...   NaN  NaN  NaN  NaN   \n",
      "30              37.2              33.0          84.5 ...   NaN  NaN  NaN  NaN   \n",
      "31              35.8              32.9          89.2 ...   NaN  NaN  NaN  NaN   \n",
      "32              34.9              32.0          89.2 ...   NaN  NaN  NaN  NaN   \n",
      "33              35.4              32.2          88.0 ...   NaN  NaN  NaN  NaN   \n",
      "34              34.0              31.7          91.4 ...   NaN  NaN  NaN  NaN   \n",
      "35              34.9              32.3          90.0 ...   NaN  NaN  NaN  NaN   \n",
      "36              35.4              32.8          90.2 ...   NaN  NaN  NaN  NaN   \n",
      "37              35.8              33.3          90.4 ...   NaN  NaN  NaN  NaN   \n",
      "38              37.4              34.8          90.1 ...   NaN  NaN  NaN  NaN   \n",
      "39              36.0              34.1          92.8 ...   NaN  NaN  NaN  NaN   \n",
      "40              37.9              35.1          89.3 ...   NaN  NaN  NaN  NaN   \n",
      "41               NaN               NaN           NaN ...   NaN  NaN  NaN  NaN   \n",
      "\n",
      "      224   225   226   227    228  229  \n",
      "0     NaN   NaN   NaN   NaN    NaN  NaN  \n",
      "1     NaN   NaN   NaN   NaN    NaN  NaN  \n",
      "2     NaN   NaN   NaN   NaN    NaN  NaN  \n",
      "3     NaN   NaN   NaN   NaN    NaN  NaN  \n",
      "4     NaN   NaN   NaN   NaN    NaN  NaN  \n",
      "5     NaN   NaN   NaN   NaN    NaN  NaN  \n",
      "6     NaN   NaN   NaN   NaN    NaN  NaN  \n",
      "7     NaN   NaN   NaN   NaN    NaN  NaN  \n",
      "8     NaN   NaN   NaN   NaN    NaN  NaN  \n",
      "9     NaN   NaN   NaN   NaN    NaN  NaN  \n",
      "10    NaN   NaN   NaN   NaN    NaN  NaN  \n",
      "11    NaN   NaN   NaN   NaN    NaN  NaN  \n",
      "12    NaN   NaN   NaN   NaN    NaN  NaN  \n",
      "13    NaN   NaN   NaN   NaN    NaN  NaN  \n",
      "14    NaN   NaN   NaN   NaN    NaN  NaN  \n",
      "15    NaN   NaN   NaN   NaN    NaN  NaN  \n",
      "16    NaN   NaN   NaN   NaN    NaN  NaN  \n",
      "17    NaN   NaN   NaN   NaN    NaN  NaN  \n",
      "18    NaN   NaN   NaN   NaN    NaN  NaN  \n",
      "19    NaN   NaN   NaN   NaN    NaN  NaN  \n",
      "20  199.0  37.9  35.1  89.3  29.19  2.0  \n",
      "21    NaN   NaN   NaN   NaN    NaN  NaN  \n",
      "22    NaN   NaN   NaN   NaN    NaN  NaN  \n",
      "23    NaN   NaN   NaN   NaN    NaN  NaN  \n",
      "24    NaN   NaN   NaN   NaN    NaN  NaN  \n",
      "25    NaN   NaN   NaN   NaN    NaN  NaN  \n",
      "26    NaN   NaN   NaN   NaN    NaN  NaN  \n",
      "27    NaN   NaN   NaN   NaN    NaN  NaN  \n",
      "28    NaN   NaN   NaN   NaN    NaN  NaN  \n",
      "29    NaN   NaN   NaN   NaN    NaN  NaN  \n",
      "30    NaN   NaN   NaN   NaN    NaN  NaN  \n",
      "31    NaN   NaN   NaN   NaN    NaN  NaN  \n",
      "32    NaN   NaN   NaN   NaN    NaN  NaN  \n",
      "33    NaN   NaN   NaN   NaN    NaN  NaN  \n",
      "34    NaN   NaN   NaN   NaN    NaN  NaN  \n",
      "35    NaN   NaN   NaN   NaN    NaN  NaN  \n",
      "36    NaN   NaN   NaN   NaN    NaN  NaN  \n",
      "37    NaN   NaN   NaN   NaN    NaN  NaN  \n",
      "38    NaN   NaN   NaN   NaN    NaN  NaN  \n",
      "39    NaN   NaN   NaN   NaN    NaN  NaN  \n",
      "40    NaN   NaN   NaN   NaN    NaN  NaN  \n",
      "41    NaN   NaN   NaN   NaN    NaN  NaN  \n",
      "\n",
      "[42 rows x 230 columns]\n"
     ]
    }
   ],
   "source": [
    "#t = soup.select(\"#mainContentInner > table > tbody > tr:nth-of-type(3) > td > div > table \")\n",
    "#tstring = t[0]\n",
    "import pandas as pd\n",
    "from io import StringIO\n",
    "#tstring\n",
    "url = 'https://www.glerl.noaa.gov//metdata/mkg/'\n",
    "tables = pd.read_html( url, flavor='html5lib')\n",
    "\n",
    "print(type(tables))\n",
    "print(len(tables))\n",
    "print(tables[0])\n",
    "#tables[21]\n",
    "#pd.read_html( io=StringIO(tstring), flavor='html5lib')\n",
    "#pd.( StringIO(tstring), html5lib)"
   ]
  },
  {
   "cell_type": "code",
   "execution_count": null,
   "metadata": {
    "collapsed": true
   },
   "outputs": [],
   "source": []
  }
 ],
 "metadata": {
  "kernelspec": {
   "display_name": "Django Shell-Plus",
   "language": "python",
   "name": "django_extensions"
  },
  "language_info": {
   "codemirror_mode": {
    "name": "ipython",
    "version": 3
   },
   "file_extension": ".py",
   "mimetype": "text/x-python",
   "name": "python",
   "nbconvert_exporter": "python",
   "pygments_lexer": "ipython3",
   "version": "3.6.0"
  }
 },
 "nbformat": 4,
 "nbformat_minor": 2
}

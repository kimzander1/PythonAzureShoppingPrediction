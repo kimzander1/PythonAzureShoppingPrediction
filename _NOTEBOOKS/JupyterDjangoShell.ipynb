{
 "cells": [
  {
   "cell_type": "markdown",
   "metadata": {
    "deletable": true,
    "editable": true
   },
   "source": [
    "# ADA - KDA Py / ML Training \n",
    "___\n",
    "#### My Experiments in Using Jup Notebooks INTERFACE for DJANGO dev and PY Machine Learning Courses\n",
    "\n",
    "(ML work dove-tails with prior SSAS - SQL SVr - work.) \n",
    "Motivated by prior work and intests in:\n",
    "+ Machine Learning \n",
    "+ R\n",
    "+ Python\n",
    "+ Web (incl/ Frameworks and Library)\n",
    "+ MarkDown\n",
    "---\n",
    "** Resources: **\n",
    "+ [Course](https://app.pluralsight.com/player?course=python-understanding-machine-learning&author=jerry-kurata&name=python-understanding-machine-learning-m1&clip=6&mode=live)\n",
    "+ [Pandas 10min Example](http://pandas.pydata.org/pandas-docs/stable/10min.html)\n",
    "+ [Pandas Example](https://realpython.com/blog/python/working-with-large-excel-files-in-pandas/)\n",
    "+ [BEAUTIFULSOUP](https://www.crummy.com/software/BeautifulSoup/bs4/doc/)\n",
    "\n",
    "+ [Jupyter Django Shell](https://www.calazan.com/using-ipython-notebook-django-shell-inside-docker-container/)\n",
    "+ [MarkDown](http://assemble.io/docs/Cheatsheet-Markdown.html)\n",
    "+ [SQLAlchemy](https://docs.sqlalchemy.org/en/rel_1_1/intro.html)\n",
    "+ [Django](https://developer.mozilla.org/en-US/docs/Learn/Server-side/Django/Introduction)\n",
    "+ [Pandas](http://pandas.pydata.org/)\n",
    "+ [Django Pandas](https://github.com/chrisdev/django-pandas)\n",
    "\n",
    "+ [jinja2](http://jinja.pocoo.org/docs/2.9/)\n",
    "\n"
   ]
  },
  {
   "cell_type": "code",
   "execution_count": 2,
   "metadata": {
    "collapsed": false,
    "deletable": true,
    "editable": true
   },
   "outputs": [],
   "source": [
    "import html5lib\n",
    "f = open(\"_FILES/WXDATA.HTML\")\n",
    "tree = html5lib.parse(f)"
   ]
  },
  {
   "cell_type": "code",
   "execution_count": 3,
   "metadata": {
    "collapsed": false,
    "deletable": true,
    "editable": true
   },
   "outputs": [
    {
     "data": {
      "text/plain": [
       "<Element '{http://www.w3.org/1999/xhtml}html' at 0x00000000014947C8>"
      ]
     },
     "execution_count": 3,
     "metadata": {},
     "output_type": "execute_result"
    }
   ],
   "source": [
    "tree\n"
   ]
  },
  {
   "cell_type": "code",
   "execution_count": 4,
   "metadata": {
    "collapsed": false,
    "deletable": true,
    "editable": true,
    "scrolled": true
   },
   "outputs": [],
   "source": [
    "import pandas as pd\n",
    "#import lxml as lx\n"
   ]
  },
  {
   "cell_type": "code",
   "execution_count": 5,
   "metadata": {
    "collapsed": false,
    "deletable": true,
    "editable": true
   },
   "outputs": [],
   "source": [
    "from bs4 import BeautifulSoup\n",
    "soup = BeautifulSoup(open(\"_files/WXDATA.HTML\"), \"html5lib\")"
   ]
  },
  {
   "cell_type": "code",
   "execution_count": 6,
   "metadata": {
    "collapsed": false,
    "deletable": true,
    "editable": true
   },
   "outputs": [
    {
     "name": "stdout",
     "output_type": "stream",
     "text": [
      "Muskegon, MI Meteorological Data & WebCam\n",
      "<title>Muskegon, MI Meteorological Data &amp; WebCam</title>\n"
     ]
    }
   ],
   "source": [
    "print(soup.title.text)  \n",
    "print(soup.title)"
   ]
  },
  {
   "cell_type": "markdown",
   "metadata": {
    "collapsed": false,
    "deletable": true,
    "editable": true
   },
   "source": [
    "#### All Anchors\n",
    "#soup.find_all('a')"
   ]
  },
  {
   "cell_type": "markdown",
   "metadata": {
    "collapsed": false,
    "deletable": true,
    "editable": true
   },
   "source": [
    "#### Get Tables\n",
    "#soup.find_all('table')"
   ]
  },
  {
   "cell_type": "markdown",
   "metadata": {
    "deletable": true,
    "editable": true
   },
   "source": [
    "#mainContentInner > table > tbody > tr:nth-child(3)\n",
    "//*[@id=\"mainContentInner\"]/table/tbody/tr[3]\n",
    "#mainContentInner > table > tbody > tr:nth-child(3) > td > div > table > tbody > tr:nth-child(1)\n",
    "//*[@id=\"mainContentInner\"]/table/tbody/tr[3]/td/div/table/tbody/tr[1]"
   ]
  },
  {
   "cell_type": "raw",
   "metadata": {
    "collapsed": true,
    "deletable": true,
    "editable": true
   },
   "source": [
    "#soup.find(\"tbody\")"
   ]
  },
  {
   "cell_type": "raw",
   "metadata": {},
   "source": [
    "soup.select(\"#mainContentInner > table > tbody > tr:nth-of-type(3) > td > div > table > tbody > tr:nth-of-type(1) \")\n",
    "#print(type(t))\n",
    "#print(len(t))\n",
    "#print(t[0])"
   ]
  },
  {
   "cell_type": "code",
   "execution_count": 84,
   "metadata": {
    "collapsed": false
   },
   "outputs": [
    {
     "ename": "TypeError",
     "evalue": "initial_value must be str or None, not Tag",
     "output_type": "error",
     "traceback": [
      "\u001b[0;31m---------------------------------------------------------------------------\u001b[0m",
      "\u001b[0;31mTypeError\u001b[0m                                 Traceback (most recent call last)",
      "\u001b[0;32m<ipython-input-84-6f67ca995b72>\u001b[0m in \u001b[0;36m<module>\u001b[0;34m()\u001b[0m\n\u001b[1;32m      4\u001b[0m \u001b[1;32mfrom\u001b[0m \u001b[0mio\u001b[0m \u001b[1;32mimport\u001b[0m \u001b[0mStringIO\u001b[0m\u001b[1;33m\u001b[0m\u001b[0m\n\u001b[1;32m      5\u001b[0m \u001b[0mtstring\u001b[0m\u001b[1;33m\u001b[0m\u001b[0m\n\u001b[0;32m----> 6\u001b[0;31m \u001b[0mpd\u001b[0m\u001b[1;33m.\u001b[0m\u001b[0mread_html\u001b[0m\u001b[1;33m(\u001b[0m \u001b[0mio\u001b[0m\u001b[1;33m=\u001b[0m\u001b[0mStringIO\u001b[0m\u001b[1;33m(\u001b[0m\u001b[0mtstring\u001b[0m\u001b[1;33m)\u001b[0m\u001b[1;33m,\u001b[0m \u001b[0mflavor\u001b[0m\u001b[1;33m=\u001b[0m\u001b[1;34m'html5lib'\u001b[0m\u001b[1;33m)\u001b[0m\u001b[1;33m\u001b[0m\u001b[0m\n\u001b[0m\u001b[1;32m      7\u001b[0m \u001b[1;31m#pd.read_html( StringIO(tstring), html5lib)\u001b[0m\u001b[1;33m\u001b[0m\u001b[1;33m\u001b[0m\u001b[0m\n",
      "\u001b[0;31mTypeError\u001b[0m: initial_value must be str or None, not Tag"
     ]
    }
   ],
   "source": [
    "t = soup.select(\"#mainContentInner > table > tbody > tr:nth-of-type(3) > td > div > table \")\n",
    "tstring = t[0]\n",
    "import pandas as pd\n",
    "from io import StringIO\n",
    "tstring\n",
    "pd.read_html( io=StringIO(tstring), flavor='html5lib')\n",
    "#pd.read_html( StringIO(tstring), html5lib)"
   ]
  },
  {
   "cell_type": "code",
   "execution_count": null,
   "metadata": {
    "collapsed": true
   },
   "outputs": [],
   "source": []
  }
 ],
 "metadata": {
  "kernelspec": {
   "display_name": "Django Shell-Plus",
   "language": "python",
   "name": "django_extensions"
  },
  "language_info": {
   "codemirror_mode": {
    "name": "ipython",
    "version": 3
   },
   "file_extension": ".py",
   "mimetype": "text/x-python",
   "name": "python",
   "nbconvert_exporter": "python",
   "pygments_lexer": "ipython3",
   "version": "3.4.3"
  }
 },
 "nbformat": 4,
 "nbformat_minor": 2
}

{
 "cells": [
  {
   "cell_type": "markdown",
   "metadata": {
    "deletable": true,
    "editable": true
   },
   "source": [
    "# ADA - KDA Py / ML Training \n",
    "___\n",
    "#### My Experiments in Using Jup Notebooks INTERFACE for DJANGO dev and PY Machine Learning Courses\n",
    "\n",
    "(ML work dove-tails with prior SSAS - SQL SVr - work.) \n",
    "Motivated by prior work and intests in:\n",
    "+ Machine Learning \n",
    "+ R\n",
    "+ Python\n",
    "+ Web (incl/ Frameworks and Library)\n",
    "+ MarkDown\n",
    "---\n",
    "** Resources: **\n",
    "+ [Course](https://app.pluralsight.com/player?course=python-understanding-machine-learning&author=jerry-kurata&name=python-understanding-machine-learning-m1&clip=6&mode=live)\n",
    "+ [Pandas 10min Example](http://pandas.pydata.org/pandas-docs/stable/10min.html)\n",
    "+ [Pandas Example](https://realpython.com/blog/python/working-with-large-excel-files-in-pandas/)\n",
    "+ [BEAUTIFULSOUP](https://www.crummy.com/software/BeautifulSoup/bs4/doc/)\n",
    "\n",
    "+ [Jupyter Django Shell](https://www.calazan.com/using-ipython-notebook-django-shell-inside-docker-container/)\n",
    "+ [MarkDown](http://assemble.io/docs/Cheatsheet-Markdown.html)\n",
    "+ [SQLAlchemy](https://docs.sqlalchemy.org/en/rel_1_1/intro.html)\n",
    "+ [Django](https://developer.mozilla.org/en-US/docs/Learn/Server-side/Django/Introduction)\n",
    "+ [Pandas](http://pandas.pydata.org/)\n",
    "+ [Django Pandas](https://github.com/chrisdev/django-pandas)\n",
    "\n",
    "+ [jinja2](http://jinja.pocoo.org/docs/2.9/)\n",
    "\n"
   ]
  },
  {
   "cell_type": "code",
   "execution_count": 2,
   "metadata": {
    "collapsed": false,
    "deletable": true,
    "editable": true
   },
   "outputs": [],
   "source": [
    "import html5lib\n",
    "f = open(\"_FILES/WXDATA.HTML\")\n",
    "tree = html5lib.parse(f)"
   ]
  },
  {
   "cell_type": "code",
   "execution_count": 3,
   "metadata": {
    "collapsed": false,
    "deletable": true,
    "editable": true
   },
   "outputs": [
    {
     "data": {
      "text/plain": [
       "<Element '{http://www.w3.org/1999/xhtml}html' at 0x00000000014947C8>"
      ]
     },
     "execution_count": 3,
     "metadata": {},
     "output_type": "execute_result"
    }
   ],
   "source": [
    "tree\n"
   ]
  },
  {
   "cell_type": "code",
   "execution_count": 4,
   "metadata": {
    "collapsed": false,
    "deletable": true,
    "editable": true,
    "scrolled": true
   },
   "outputs": [],
   "source": [
    "import pandas as pd\n",
    "#import lxml as lx\n"
   ]
  },
  {
   "cell_type": "code",
   "execution_count": 5,
   "metadata": {
    "collapsed": false,
    "deletable": true,
    "editable": true
   },
   "outputs": [],
   "source": [
    "from bs4 import BeautifulSoup\n",
    "soup = BeautifulSoup(open(\"_files/WXDATA.HTML\"), \"html5lib\")"
   ]
  },
  {
   "cell_type": "code",
   "execution_count": 6,
   "metadata": {
    "collapsed": false,
    "deletable": true,
    "editable": true
   },
   "outputs": [
    {
     "name": "stdout",
     "output_type": "stream",
     "text": [
      "Muskegon, MI Meteorological Data & WebCam\n",
      "<title>Muskegon, MI Meteorological Data &amp; WebCam</title>\n"
     ]
    }
   ],
   "source": [
    "print(soup.title.text)  \n",
    "print(soup.title)"
   ]
  },
  {
   "cell_type": "markdown",
   "metadata": {
    "collapsed": false,
    "deletable": true,
    "editable": true
   },
   "source": [
    "#### All Anchors\n",
    "#soup.find_all('a')"
   ]
  },
  {
   "cell_type": "markdown",
   "metadata": {
    "collapsed": false,
    "deletable": true,
    "editable": true
   },
   "source": [
    "#### Get Tables\n",
    "#soup.find_all('table')"
   ]
  },
  {
   "cell_type": "markdown",
   "metadata": {
    "deletable": true,
    "editable": true
   },
   "source": [
    "#mainContentInner > table > tbody > tr:nth-child(3)\n",
    "//*[@id=\"mainContentInner\"]/table/tbody/tr[3]\n",
    "#mainContentInner > table > tbody > tr:nth-child(3) > td > div > table > tbody > tr:nth-child(1)\n",
    "//*[@id=\"mainContentInner\"]/table/tbody/tr[3]/td/div/table/tbody/tr[1]"
   ]
  },
  {
   "cell_type": "code",
   "execution_count": 32,
   "metadata": {
    "collapsed": false,
    "deletable": true,
    "editable": true
   },
   "outputs": [],
   "source": [
    "#soup.find(\"tbody\")"
   ]
  },
  {
   "cell_type": "code",
   "execution_count": 45,
   "metadata": {
    "collapsed": false
   },
   "outputs": [
    {
     "data": {
      "text/plain": [
       "[<tr><td bgcolor=\"#EBF6FF\" valign=\"top\" width=\"425\">\n",
       " <!-- Begin 18-hr table -->\n",
       " <div class=\"centeredContent\"><table border=\"1\" cellpadding=\"0\" cellspacing=\"0\" class=\"narrower4\" summary=\"\" width=\"100%\">\n",
       " <tbody><tr class=\"red\"><td align=\"center\" colspan=\"12\">----------------- Previous 18 Hours (at top of hour)  [English] [<a href=\"met1m.html\">Metric</a>] -----------------</td></tr>\n",
       " <tr class=\"red\"><td align=\"right\" valign=\"bottom\">YEAR</td><td align=\"right\" valign=\"bottom\">DOY</td>\n",
       " <td align=\"right\" valign=\"bottom\">EST</td>\n",
       " <td align=\"right\" valign=\"bottom\">Wind<br/>Speed<br/>kts</td>\n",
       " <td align=\"right\" valign=\"bottom\">Wind<br/>Gust<br/>kts</td>\n",
       " <td align=\"right\" valign=\"bottom\">Peak<br/>Wind<br/>kts</td>\n",
       " <td align=\"right\" valign=\"bottom\">Wind<br/>Dir<br/>deg</td>\n",
       " <td align=\"right\" valign=\"bottom\">Air<br/>Temp<br/>deg F</td>\n",
       " <td align=\"right\" valign=\"bottom\">Dew<br/>Point<br/>deg F</td>\n",
       " <td align=\"right\" valign=\"bottom\">Rel<br/>Hum<br/>%</td>\n",
       " <td align=\"right\" valign=\"bottom\">Sta<br/>Press<br/>in</td>\n",
       " <td align=\"right\" valign=\"bottom\">PAR<br/>uEinst/<br/>m^2/s</td></tr>\n",
       " <tr><td align=\"right\"> 2017</td><td align=\"right\">043</td><td align=\"right\">2000</td><td align=\"right\">   27.8</td><td align=\"right\">  31.3</td><td align=\"right\">  36.4</td><td align=\"right\">  318</td><td align=\"right\">  35.1</td><td align=\"right\">  23.7</td><td align=\"right\">  63.0</td><td align=\"right\"> 29.53</td><td align=\"right\">   2</td></tr> \n",
       " <tr><td align=\"right\"> 2017</td><td align=\"right\">043</td><td align=\"right\">1900</td><td align=\"right\">   31.7</td><td align=\"right\">  36.5</td><td align=\"right\">  38.7</td><td align=\"right\">  328</td><td align=\"right\">  35.1</td><td align=\"right\">  23.0</td><td align=\"right\">  61.0</td><td align=\"right\"> 29.50</td><td align=\"right\">   2</td></tr> \n",
       " <tr><td align=\"right\"> 2017</td><td align=\"right\">043</td><td align=\"right\">1800</td><td align=\"right\">   30.5</td><td align=\"right\">  37.3</td><td align=\"right\">  37.3</td><td align=\"right\">  328</td><td align=\"right\">  35.1</td><td align=\"right\">  24.1</td><td align=\"right\">  64.0</td><td align=\"right\"> 29.47</td><td align=\"right\"> 198</td></tr> \n",
       " <tr><td align=\"right\"> 2017</td><td align=\"right\">043</td><td align=\"right\">1700</td><td align=\"right\">   29.2</td><td align=\"right\">  34.8</td><td align=\"right\">  39.3</td><td align=\"right\">  327</td><td align=\"right\">  36.1</td><td align=\"right\">  24.1</td><td align=\"right\">  61.3</td><td align=\"right\"> 29.42</td><td align=\"right\">1172</td></tr> \n",
       " <tr><td align=\"right\"> 2017</td><td align=\"right\">043</td><td align=\"right\">1600</td><td align=\"right\">   32.7</td><td align=\"right\">  35.6</td><td align=\"right\">  40.6</td><td align=\"right\">  322</td><td align=\"right\">  36.9</td><td align=\"right\">  24.8</td><td align=\"right\">  61.3</td><td align=\"right\"> 29.37</td><td align=\"right\"> 857</td></tr> \n",
       " <tr><td align=\"right\"> 2017</td><td align=\"right\">043</td><td align=\"right\">1500</td><td align=\"right\">   29.4</td><td align=\"right\">  33.2</td><td align=\"right\">  43.2</td><td align=\"right\">  319</td><td align=\"right\">  37.6</td><td align=\"right\">  25.8</td><td align=\"right\">  62.2</td><td align=\"right\"> 29.33</td><td align=\"right\">1804</td></tr> \n",
       " <tr><td align=\"right\"> 2017</td><td align=\"right\">043</td><td align=\"right\">1400</td><td align=\"right\">   25.3</td><td align=\"right\">  29.0</td><td align=\"right\">  40.8</td><td align=\"right\">  317</td><td align=\"right\">  38.1</td><td align=\"right\">  29.0</td><td align=\"right\">  69.4</td><td align=\"right\"> 29.30</td><td align=\"right\">1893</td></tr> \n",
       " <tr><td align=\"right\"> 2017</td><td align=\"right\">043</td><td align=\"right\">1300</td><td align=\"right\">   20.4</td><td align=\"right\">  24.5</td><td align=\"right\">  34.0</td><td align=\"right\">  300</td><td align=\"right\">  37.6</td><td align=\"right\">  32.6</td><td align=\"right\">  82.1</td><td align=\"right\"> 29.28</td><td align=\"right\">1928</td></tr> \n",
       " <tr><td align=\"right\"> 2017</td><td align=\"right\">043</td><td align=\"right\">1200</td><td align=\"right\">   16.3</td><td align=\"right\">  17.5</td><td align=\"right\">  25.1</td><td align=\"right\">  294</td><td align=\"right\">  36.3</td><td align=\"right\">  34.0</td><td align=\"right\">  91.2</td><td align=\"right\"> 29.29</td><td align=\"right\"> 199</td></tr> \n",
       " <tr><td align=\"right\"> 2017</td><td align=\"right\">043</td><td align=\"right\">1100</td><td align=\"right\">   21.4</td><td align=\"right\">  24.5</td><td align=\"right\">  27.6</td><td align=\"right\">  276</td><td align=\"right\">  35.8</td><td align=\"right\">  33.7</td><td align=\"right\">  92.1</td><td align=\"right\"> 29.29</td><td align=\"right\"> 432</td></tr> \n",
       " <tr><td align=\"right\"> 2017</td><td align=\"right\">043</td><td align=\"right\">1000</td><td align=\"right\">   11.5</td><td align=\"right\">  12.1</td><td align=\"right\">  24.5</td><td align=\"right\">  258</td><td align=\"right\">  34.2</td><td align=\"right\">  32.9</td><td align=\"right\">  95.0</td><td align=\"right\"> 29.29</td><td align=\"right\"> 165</td></tr> \n",
       " <tr><td align=\"right\"> 2017</td><td align=\"right\">043</td><td align=\"right\">0900</td><td align=\"right\">   10.1</td><td align=\"right\">  10.5</td><td align=\"right\">  12.6</td><td align=\"right\">  287</td><td align=\"right\">  34.5</td><td align=\"right\">  32.9</td><td align=\"right\">  93.6</td><td align=\"right\"> 29.31</td><td align=\"right\"> 110</td></tr> \n",
       " <tr><td align=\"right\"> 2017</td><td align=\"right\">043</td><td align=\"right\">0800</td><td align=\"right\">    9.5</td><td align=\"right\">  10.7</td><td align=\"right\">  12.8</td><td align=\"right\">  312</td><td align=\"right\">  34.0</td><td align=\"right\">  33.0</td><td align=\"right\">  96.3</td><td align=\"right\"> 29.30</td><td align=\"right\">  16</td></tr> \n",
       " <tr><td align=\"right\"> 2017</td><td align=\"right\">043</td><td align=\"right\">0700</td><td align=\"right\">    8.2</td><td align=\"right\">   8.6</td><td align=\"right\">  11.5</td><td align=\"right\">  312</td><td align=\"right\">  33.1</td><td align=\"right\">  32.0</td><td align=\"right\">  95.9</td><td align=\"right\"> 29.29</td><td align=\"right\">   2</td></tr> \n",
       " <tr><td align=\"right\"> 2017</td><td align=\"right\">043</td><td align=\"right\">0600</td><td align=\"right\">    1.7</td><td align=\"right\">   2.1</td><td align=\"right\">   9.3</td><td align=\"right\">  089</td><td align=\"right\">  33.4</td><td align=\"right\">  32.2</td><td align=\"right\">  95.0</td><td align=\"right\"> 29.27</td><td align=\"right\">   2</td></tr> \n",
       " <tr><td align=\"right\"> 2017</td><td align=\"right\">043</td><td align=\"right\">0500</td><td align=\"right\">    9.1</td><td align=\"right\">   9.7</td><td align=\"right\">  11.7</td><td align=\"right\">  352</td><td align=\"right\">  33.4</td><td align=\"right\">  31.8</td><td align=\"right\">  93.6</td><td align=\"right\"> 29.29</td><td align=\"right\">   2</td></tr> \n",
       " <tr><td align=\"right\"> 2017</td><td align=\"right\">043</td><td align=\"right\">0400</td><td align=\"right\">    2.3</td><td align=\"right\">   3.1</td><td align=\"right\">   9.5</td><td align=\"right\">  345</td><td align=\"right\">  34.0</td><td align=\"right\">  31.5</td><td align=\"right\">  90.4</td><td align=\"right\"> 29.29</td><td align=\"right\">   2</td></tr> \n",
       " <tr><td align=\"right\"> 2017</td><td align=\"right\">043</td><td align=\"right\">0300</td><td align=\"right\">    2.9</td><td align=\"right\">   4.1</td><td align=\"right\">   6.4</td><td align=\"right\">  086</td><td align=\"right\">  35.6</td><td align=\"right\">  31.3</td><td align=\"right\">  84.1</td><td align=\"right\"> 29.30</td><td align=\"right\">   2</td></tr> \n",
       " </tbody></table>\n",
       " <span class=\"small\">Note: Peak wind is max wind gust during entire hour</span>\n",
       " </div>\n",
       " <!-- End 18-hr table -->\n",
       " </td>\n",
       " </tr>]"
      ]
     },
     "execution_count": 45,
     "metadata": {},
     "output_type": "execute_result"
    }
   ],
   "source": [
    "soup.select(\"#mainContentInner > table > tbody > tr:nth-of-type(3) \")"
   ]
  },
  {
   "cell_type": "code",
   "execution_count": 31,
   "metadata": {
    "collapsed": false
   },
   "outputs": [
    {
     "name": "stdout",
     "output_type": "stream",
     "text": [
      "<class 'list'>\n",
      "6\n",
      "<span class=\"red\">Muskegon, MI</span>\n"
     ]
    }
   ],
   "source": [
    "print(type(t))\n",
    "print(len(t))\n",
    "print(t[0])"
   ]
  },
  {
   "cell_type": "code",
   "execution_count": null,
   "metadata": {
    "collapsed": true
   },
   "outputs": [],
   "source": []
  }
 ],
 "metadata": {
  "kernelspec": {
   "display_name": "Django Shell-Plus",
   "language": "python",
   "name": "django_extensions"
  },
  "language_info": {
   "codemirror_mode": {
    "name": "ipython",
    "version": 3
   },
   "file_extension": ".py",
   "mimetype": "text/x-python",
   "name": "python",
   "nbconvert_exporter": "python",
   "pygments_lexer": "ipython3",
   "version": "3.4.3"
  }
 },
 "nbformat": 4,
 "nbformat_minor": 2
}

{
 "cells": [
  {
   "cell_type": "markdown",
   "metadata": {
    "deletable": true,
    "editable": true
   },
   "source": [
    "# ADA - KDA Py / ML Training \n",
    "___\n",
    "#### My Experiments in Using Jup Notebooks INTERFACE for DJANGO dev and PY Machine Learning Courses\n",
    "\n",
    "(ML work dove-tails with prior SSAS - SQL SVr - work.) \n",
    "Motivated by prior work and intests in:\n",
    "+ Machine Learning \n",
    "+ R\n",
    "+ Python\n",
    "+ Web (incl/ Frameworks and Library)\n",
    "+ MarkDown\n",
    "---\n",
    "** Resources: **\n",
    "+ [Course](https://app.pluralsight.com/player?course=python-understanding-machine-learning&author=jerry-kurata&name=python-understanding-machine-learning-m1&clip=6&mode=live)\n",
    "+ [Pandas Example](https://realpython.com/blog/python/working-with-large-excel-files-in-pandas/)\n",
    "+ [BEAUTIFULSOUP](https://www.crummy.com/software/BeautifulSoup/bs4/doc/)\n",
    "\n",
    "+ [Jupyter Django Shell](https://www.calazan.com/using-ipython-notebook-django-shell-inside-docker-container/)\n",
    "+ [MarkDown](http://assemble.io/docs/Cheatsheet-Markdown.html)\n",
    "+ [SQLAlchemy](https://docs.sqlalchemy.org/en/rel_1_1/intro.html)\n",
    "+ [Django](https://developer.mozilla.org/en-US/docs/Learn/Server-side/Django/Introduction)\n",
    "+ [Pandas](http://pandas.pydata.org/)\n",
    "+ [Django Pandas](https://github.com/chrisdev/django-pandas)\n",
    "\n",
    "+ [jinja2](http://jinja.pocoo.org/docs/2.9/)\n",
    "\n"
   ]
  },
  {
   "cell_type": "code",
   "execution_count": 1,
   "metadata": {
    "collapsed": false,
    "deletable": true,
    "editable": true
   },
   "outputs": [],
   "source": [
    "import html5lib\n",
    "f = open(\"files/zipUtil.html\")\n",
    "tree = html5lib.parse(f)"
   ]
  },
  {
   "cell_type": "code",
   "execution_count": 2,
   "metadata": {
    "collapsed": false,
    "deletable": true,
    "editable": true
   },
   "outputs": [
    {
     "data": {
      "text/plain": [
       "<Element '{http://www.w3.org/1999/xhtml}html' at 0x00000000018E0A48>"
      ]
     },
     "execution_count": 2,
     "metadata": {},
     "output_type": "execute_result"
    }
   ],
   "source": [
    "tree\n"
   ]
  },
  {
   "cell_type": "code",
   "execution_count": 1,
   "metadata": {
    "collapsed": false,
    "deletable": true,
    "editable": true,
    "scrolled": true
   },
   "outputs": [
    {
     "ename": "ImportError",
     "evalue": "No module named 'lxml'",
     "output_type": "error",
     "traceback": [
      "\u001b[0;31m---------------------------------------------------------------------------\u001b[0m",
      "\u001b[0;31mImportError\u001b[0m                               Traceback (most recent call last)",
      "\u001b[0;32m<ipython-input-1-a0d4deced604>\u001b[0m in \u001b[0;36m<module>\u001b[0;34m()\u001b[0m\n\u001b[1;32m      1\u001b[0m \u001b[1;32mimport\u001b[0m \u001b[0mpandas\u001b[0m \u001b[1;32mas\u001b[0m \u001b[0mpd\u001b[0m\u001b[1;33m\u001b[0m\u001b[0m\n\u001b[0;32m----> 2\u001b[0;31m \u001b[1;32mimport\u001b[0m \u001b[0mlxml\u001b[0m \u001b[1;32mas\u001b[0m \u001b[0mlx\u001b[0m\u001b[1;33m\u001b[0m\u001b[0m\n\u001b[0m",
      "\u001b[0;31mImportError\u001b[0m: No module named 'lxml'"
     ]
    }
   ],
   "source": [
    "import pandas as pd\n",
    "import lxml as lx"
   ]
  },
  {
   "cell_type": "code",
   "execution_count": null,
   "metadata": {
    "collapsed": true,
    "deletable": true,
    "editable": true
   },
   "outputs": [],
   "source": []
  }
 ],
 "metadata": {
  "kernelspec": {
   "display_name": "Django Shell-Plus",
   "language": "python",
   "name": "django_extensions"
  },
  "language_info": {
   "codemirror_mode": {
    "name": "ipython",
    "version": 3
   },
   "file_extension": ".py",
   "mimetype": "text/x-python",
   "name": "python",
   "nbconvert_exporter": "python",
   "pygments_lexer": "ipython3",
   "version": "3.4.3"
  }
 },
 "nbformat": 4,
 "nbformat_minor": 2
}
